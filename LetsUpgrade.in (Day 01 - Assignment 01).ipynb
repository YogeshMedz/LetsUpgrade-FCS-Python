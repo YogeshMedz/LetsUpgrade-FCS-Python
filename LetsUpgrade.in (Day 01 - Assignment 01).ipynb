{
 "cells": [
  {
   "cell_type": "markdown",
   "metadata": {},
   "source": [
    "   ## Assignment 01 - Day 01 - PYTHON (LetsUpgrade.in)\n",
    "   - Yogesh Raghupati (yogeshraghupati13396@gmail.com)"
   ]
  },
  {
   "cell_type": "markdown",
   "metadata": {},
   "source": [
    "# 1. List and its Default Functions"
   ]
  },
  {
   "cell_type": "markdown",
   "metadata": {},
   "source": [
    "Lists are just like the arrays, declared in other languages. Lists need not be homogeneous always which makes it a most powerful tool in Python. A single list may contain DataTypes like Integers, Strings, as well as Objects. Lists are mutable, and hence, they can be altered even after their creation.\n",
    "\n",
    "List in Python are ordered and have a definite count. The elements in a list are indexed according to a definite sequence and the indexing of a list is done with 0 being the first index. Each element in the list has its definite place in the list, which allows duplicating of elements in the list, with each element having its own distinct place and credibility.\n",
    "\n",
    "<b> Note- Lists are a useful tool for preserving a sequence of data and further iterating over it. </b>"
   ]
  },
  {
   "cell_type": "markdown",
   "metadata": {},
   "source": [
    "## <b><center> LIST METHODS WITH BUILT-IN FUNCTIONS </center></b>"
   ]
  },
  {
   "cell_type": "markdown",
   "metadata": {},
   "source": [
    "### List Methods\n",
    "<!DOCTYPE html>\n",
    "<html>\n",
    "<head>\n",
    "<style>\n",
    "table {\n",
    "  font-family: arial, sans-serif;\n",
    "  border-collapse: collapse;\n",
    "  width: 100%;\n",
    "}\n",
    "\n",
    "td, th {\n",
    "  border: 1px solid #dddddd;\n",
    "  text-align: left;\n",
    "  padding: 8px;\n",
    "}\n",
    "\n",
    "tr:nth-child(even) {\n",
    "  background-color: #dddddd;\n",
    "}\n",
    "</style>\n",
    "</head>\n",
    "<body>\n",
    "\n",
    "<table>\n",
    "  <tr>\n",
    "    <th>FUNCTION</th>\n",
    "    <th>DESCRIPTION</th>\n",
    "  </tr>\n",
    "  <tr>\n",
    "    <td>Append()</td>\n",
    "    <td>Add an element to the end of the list</td>\n",
    "  </tr>\n",
    "  <tr>\n",
    "    <td>Insert()</td>\n",
    "    <td>Insert an item at the defined index</td>\n",
    "  </tr>\n",
    "  <tr>\n",
    "    <td> Remove()</td>\n",
    "    <td>Removes an item from the list</td>\n",
    "  </tr>\n",
    "  <tr>\n",
    "    <td>Pop()</td>\n",
    "    <td>Removes and returns an element at the given index</td>\n",
    "  </tr>\n",
    "  <tr>\n",
    "    <td> Clear()</td>\n",
    "    <td>Removes all items from the list</td>\n",
    "  </tr>\n",
    "  <tr>\n",
    "    <td>Index()</td>\n",
    "    <td>Returns the index of the first matched item</td>\n",
    "  </tr>\n",
    "    <tr>\n",
    "    <td> Count()</td>\n",
    "    <td>Returns the count of number of items passed as an argument</td>\n",
    "  </tr>\n",
    "  <tr>\n",
    "    <td>Sort()</td>\n",
    "    <td>Sort items in a list in ascending order</td>\n",
    "  </tr>\n",
    "  <tr>\n",
    "    <td> Reverse()</td>\n",
    "    <td>Reverse the order of items in the list</td>\n",
    "  </tr>\n",
    "  <tr>\n",
    "    <td>copy()</td>\n",
    "    <td>Returns a copy of the list</td>\n",
    "  </tr>\n",
    "</table>\n",
    "\n",
    "</body>\n",
    "</html>\n",
    "\n",
    "\n"
   ]
  },
  {
   "cell_type": "markdown",
   "metadata": {},
   "source": [
    "### Built-in functions with List\n",
    "<!DOCTYPE html>\n",
    "<html>\n",
    "<head>\n",
    "<style>\n",
    "table {\n",
    "  font-family: arial, sans-serif;\n",
    "  border-collapse: collapse;\n",
    "  width: 100%;\n",
    "}\n",
    "td, th {\n",
    "  border: 1px solid #dddddd;\n",
    "  text-align: left;\n",
    "  padding: 8px;\n",
    "}\n",
    "\n",
    "tr:nth-child(even) {\n",
    "  background-color: #dddddd;\n",
    "}\n",
    "</style>\n",
    "</head>\n",
    "<body>\n",
    "<table>\n",
    "  <tr>\n",
    "    <th>FUNCTION</th>\n",
    "    <th>DESCRIPTION</th>\n",
    "  </tr>\n",
    "  <tr>\n",
    "    <td>reduce()</td>\n",
    "    <td>apply a particular function passed in its argument to all of the list elements stores the intermediate result and only returns the final summation value</td>\n",
    "  </tr>\n",
    "  <tr>\n",
    "    <td>ord()</td>\n",
    "    <td>Returns an integer representing the Unicode code point of the given Unicode character\n",
    "</td>\n",
    "  </tr>\n",
    "  <tr>\n",
    "    <td> cmp()</td>\n",
    "    <td>This function returns 1, if first list is “greater” than second list</td>\n",
    "  </tr>\n",
    "  <tr>\n",
    "    <td>max()</td>\n",
    "    <td>return maximum element of given list</td>\n",
    "  </tr>\n",
    "  <tr>\n",
    "    <td> min()</td>\n",
    "    <td>return minimum element of given list</td>\n",
    "  </tr>\n",
    "  <tr>\n",
    "    <td>all()</td>\n",
    "    <td>Returns true if all element are true or if list is empty</td>\n",
    "  </tr>\n",
    "    <tr>\n",
    "    <td> any()</td>\n",
    "    <td>return true if any element of the list is true. if list is empty, return false</td>\n",
    "  </tr>\n",
    "  <tr>\n",
    "    <td>len()</td>\n",
    "    <td>Returns length of the list or size of the list\n",
    "</td>\n",
    "  </tr>\n",
    "  <tr>\n",
    "    <td> enumerate()</td>\n",
    "    <td>Returns enumerate object of list\n",
    "</td>\n",
    "  </tr>\n",
    "  <tr>\n",
    "    <td>accumulate()</td>\n",
    "    <td>apply a particular function passed in its argument to all of the list elements returns a list containing the intermediate results</td>\n",
    "  </tr>\n",
    "    <tr>\n",
    "    <td>filter()</td>\n",
    "    <td>tests if each element of a list true or not\n",
    "</td>\n",
    "  </tr>\n",
    "  <tr>\n",
    "    <td> map()\t</td>\n",
    "    <td>returns a list of the results after applying the given function to each item of a given iterable\n",
    "</td>\n",
    "  </tr>\n",
    "  <tr>\n",
    "    <td>lambda()</td>\n",
    "    <td>This function can have any number of arguments but only one expression, which is evaluated and returned.</td>\n",
    "  </tr>\n",
    "</table>\n",
    "\n",
    "</body>\n",
    "</html>\n"
   ]
  },
  {
   "cell_type": "code",
   "execution_count": 2,
   "metadata": {},
   "outputs": [
    {
     "name": "stdout",
     "output_type": "stream",
     "text": [
      "Intial blank List: \n",
      "[]\n",
      "\n",
      "List with the use of String: \n",
      "['Yogesh Raghupati']\n",
      "\n",
      "List containing multiple values: \n",
      "Yogesh \n",
      "LetsUpgrade.in Student\n",
      "\n",
      "Multi-Dimensional List: \n",
      "[['Yogesh', 'For'], ['LetsUpgrade.in Student']]\n"
     ]
    }
   ],
   "source": [
    "# Python program to demonstrate \n",
    "# Creation of List \n",
    "\n",
    "# Creating a List \n",
    "List = [] \n",
    "print(\"Intial blank List: \") \n",
    "print(List) \n",
    "\n",
    "# Creating a List with \n",
    "# the use of a String \n",
    "List = ['Yogesh Raghupati'] \n",
    "print(\"\\nList with the use of String: \") \n",
    "print(List) \n",
    "\n",
    "# Creating a List with \n",
    "# the use of multiple values \n",
    "List = [\"Yogesh \", \"For\", \"LetsUpgrade.in Student\"] \n",
    "print(\"\\nList containing multiple values: \") \n",
    "print(List[0]) \n",
    "print(List[2]) \n",
    "\n",
    "# Creating a Multi-Dimensional List \n",
    "# (By Nesting a list inside a List) \n",
    "List = [['Yogesh', 'For'] , ['LetsUpgrade.in Student']] \n",
    "print(\"\\nMulti-Dimensional List: \") \n",
    "print(List) \n"
   ]
  },
  {
   "cell_type": "markdown",
   "metadata": {},
   "source": [
    "### <center>USING SOME DEFAULT FUNCTIONS</center>\n"
   ]
  },
  {
   "cell_type": "code",
   "execution_count": 30,
   "metadata": {},
   "outputs": [
    {
     "name": "stdout",
     "output_type": "stream",
     "text": [
      "Initial blank List: \n",
      "[]\n",
      "\n",
      "List after Addition of Three elements: \n",
      "[1, 2, 4]\n"
     ]
    }
   ],
   "source": [
    "# Python program to demonstrate \n",
    "# Addition of elements in a List \n",
    "\n",
    "# Creating a List \n",
    "List = [] \n",
    "print(\"Initial blank List: \") \n",
    "print(List) \n",
    "\n",
    "# Addition of Elements \n",
    "# in the List \n",
    "List.append(1) \n",
    "List.append(2) \n",
    "List.append(4) \n",
    "print(\"\\nList after Addition of Three elements: \") \n",
    "print(List) \n"
   ]
  },
  {
   "cell_type": "code",
   "execution_count": 35,
   "metadata": {},
   "outputs": [
    {
     "name": "stdout",
     "output_type": "stream",
     "text": [
      "Initial List: \n",
      "[1, 2, 3, 4]\n",
      "\n",
      "List after performing Insert Operation: \n",
      "['Yogesh Raghupati', 1, 2, 3, 12, 4]\n",
      "\n",
      "List after Removal of two elements: \n",
      "['Yogesh Raghupati', 1, 12, 4]\n",
      "\n",
      "List after popping a specific element: \n",
      "['Yogesh Raghupati', 1, 4]\n",
      "\n",
      "List after performing Extend Operation: \n",
      "['Yogesh Raghupati', 1, 4, 8, 'LetsUpgrade.in Student', 'Always']\n"
     ]
    }
   ],
   "source": [
    "# Python program to demonstrate \n",
    "# Addition of elements in a List \n",
    "\n",
    "# Creating a List \n",
    "List = [1,2,3,4] \n",
    "print(\"Initial List: \") \n",
    "print(List) \n",
    "\n",
    "# Addition of Element at \n",
    "# specific Position \n",
    "# (using Insert Method) \n",
    "List.insert(3, 12) \n",
    "List.insert(0, 'Yogesh Raghupati') \n",
    "print(\"\\nList after performing Insert Operation: \") \n",
    "print(List) \n",
    "\n",
    "# Removing elements from List \n",
    "# using Remove() method \n",
    "List.remove(2) \n",
    "List.remove(3) \n",
    "print(\"\\nList after Removal of two elements: \") \n",
    "print(List) \n",
    "\n",
    "# Removing element at a  \n",
    "# specific location from the  \n",
    "# Set using the pop() method \n",
    "List.pop(2) \n",
    "print(\"\\nList after popping a specific element: \") \n",
    "print(List) \n",
    "# (using Extend Method) \n",
    "List.extend([8, 'LetsUpgrade.in Student', 'Always']) \n",
    "print(\"\\nList after performing Extend Operation: \") \n",
    "print(List) \n"
   ]
  },
  {
   "cell_type": "code",
   "execution_count": 37,
   "metadata": {},
   "outputs": [
    {
     "name": "stdout",
     "output_type": "stream",
     "text": [
      "['banana', 'cherry']\n",
      "[]\n",
      "['apple', 'banana', 'cherry']\n"
     ]
    }
   ],
   "source": [
    "# (using Delete Method)\n",
    "thislist = [\"apple\", \"banana\", \"cherry\"]\n",
    "del thislist[0]\n",
    "print(thislist)\n",
    "\n",
    "# (using Clear Method)\n",
    "thislist = [\"apple\", \"banana\", \"cherry\"]\n",
    "thislist.clear()\n",
    "print(thislist)\n",
    "\n",
    "# (using Copy Method)\n",
    "thislist = [\"apple\", \"banana\", \"cherry\"]\n",
    "mylist = thislist.copy()\n",
    "print(mylist)"
   ]
  },
  {
   "cell_type": "markdown",
   "metadata": {},
   "source": [
    "### For more examples: <a href=\"https://www.geeksforgeeks.org/python-list/\">GEEKFORGEEKS</a>, <a href=\"https://www.w3schools.com/python/python_lists.asp\">W3Schools</a> "
   ]
  },
  {
   "cell_type": "markdown",
   "metadata": {},
   "source": [
    "# 2. Dictionary and its Default Functions\n",
    "\n",
    "\n",
    "\n"
   ]
  },
  {
   "cell_type": "markdown",
   "metadata": {},
   "source": [
    "\n",
    "<b>Dictionary</b> in Python is an unordered collection of data values, used to store data values like a map, which unlike other Data Types that hold only single value as an element, Dictionary holds key:value pair. Key value is provided in the dictionary to make it more optimized.\n",
    "\n",
    "<b>Note – Keys in a dictionary doesn’t allows Polymorphism.</b>"
   ]
  },
  {
   "cell_type": "markdown",
   "metadata": {},
   "source": [
    "<a href=\"https://ibb.co/HtSCYdz\"><img src=\"https://i.ibb.co/7nfQV4W/1.jpg\" alt=\"1\" border=\"0\"></a>"
   ]
  },
  {
   "cell_type": "markdown",
   "metadata": {},
   "source": [
    "<a href=\"https://ibb.co/QkN0FbR\"><img src=\"https://i.ibb.co/gdTYMjp/2.jpg\" alt=\"2\" border=\"0\"></a>"
   ]
  },
  {
   "cell_type": "code",
   "execution_count": 47,
   "metadata": {},
   "outputs": [
    {
     "name": "stdout",
     "output_type": "stream",
     "text": [
      "\n",
      "Dictionary with the use of Integer Keys: \n",
      "{1: 'Yogesh', 2: 'Raghupati', 3: 'LetsUpgrade.in'}\n",
      "\n",
      "Dictionary with the use of Mixed Keys: \n",
      "{'Name': 'Yogesh Raghupati', 1: [1, 2, 3, 4]}\n",
      "Empty Dictionary: \n",
      "{}\n",
      "\n",
      "Dictionary with the use of dict(): \n",
      "{1: 'Yogesh', 2: 'Raghupati', 3: 'LetsUpgrade.in'}\n",
      "\n",
      "Dictionary with each item as a pair: \n",
      "{1: 'Yogesh Raghupati', 2: 'LetsUpgrade.in'}\n",
      "\n",
      "Dictionary after adding 3 elements: \n",
      "{1: 'Yogesh Raghupati', 2: 'For', 0: 'Geeks', 3: 1}\n",
      "\n",
      "Accessing a element using get:\n",
      "1\n"
     ]
    }
   ],
   "source": [
    "# Creating a Dictionary \n",
    "# with Integer Keys \n",
    "Dict = {1: 'Yogesh', 2: 'Raghupati', 3: 'LetsUpgrade.in'} \n",
    "print(\"\\nDictionary with the use of Integer Keys: \") \n",
    "print(Dict) \n",
    "\n",
    "# Creating a Dictionary \n",
    "# with Mixed keys \n",
    "Dict = {'Name': 'Yogesh Raghupati', 1: [1, 2, 3, 4]} \n",
    "print(\"\\nDictionary with the use of Mixed Keys: \") \n",
    "print(Dict) \n",
    "\n",
    "# Creating an empty Dictionary \n",
    "Dict = {} \n",
    "print(\"Empty Dictionary: \") \n",
    "print(Dict) \n",
    "\n",
    "# Creating a Dictionary \n",
    "# with dict() method \n",
    "Dict = dict({1: 'Yogesh', 2: 'Raghupati', 3:'LetsUpgrade.in'}) \n",
    "print(\"\\nDictionary with the use of dict(): \") \n",
    "print(Dict) \n",
    "\n",
    "# Creating a Dictionary \n",
    "# with each item as a Pair \n",
    "Dict = dict([(1, 'Yogesh Raghupati'), (2, 'LetsUpgrade.in')]) \n",
    "print(\"\\nDictionary with each item as a pair: \") \n",
    "print(Dict) \n",
    "\n",
    "# Adding elements one at a time \n",
    "Dict[0] = 'Geeks'\n",
    "Dict[2] = 'For'\n",
    "Dict[3] = 1\n",
    "print(\"\\nDictionary after adding 3 elements: \") \n",
    "print(Dict) \n",
    "\n",
    "# Accessing a element using get() \n",
    "# method \n",
    "print(\"\\nAccessing a element using get:\") \n",
    "print(Dict.get(3)) "
   ]
  },
  {
   "cell_type": "code",
   "execution_count": 50,
   "metadata": {},
   "outputs": [
    {
     "name": "stdout",
     "output_type": "stream",
     "text": [
      "Initial Dictionary: \n",
      "{5: 'Welcome', 6: 'To', 7: 'Geeks', 'A': {1: 'Geeks', 2: 'For', 3: 'Geeks'}, 'B': {1: 'Geeks', 2: 'Life'}}\n",
      "\n",
      "Deleting a specific key: \n",
      "{5: 'Welcome', 7: 'Geeks', 'A': {1: 'Geeks', 2: 'For', 3: 'Geeks'}, 'B': {1: 'Geeks', 2: 'Life'}}\n",
      "\n",
      "Deleting a key from Nested Dictionary: \n",
      "{5: 'Welcome', 7: 'Geeks', 'A': {1: 'Geeks', 3: 'Geeks'}, 'B': {1: 'Geeks', 2: 'Life'}}\n"
     ]
    }
   ],
   "source": [
    "# Initial Dictionary \n",
    "Dict = { 5 : 'Welcome', 6 : 'To', 7 : 'Geeks', \n",
    "\t\t'A' : {1 : 'Geeks', 2 : 'For', 3 : 'Geeks'}, \n",
    "\t\t'B' : {1 : 'Geeks', 2 : 'Life'}} \n",
    "print(\"Initial Dictionary: \") \n",
    "print(Dict) \n",
    "\n",
    "# Deleting a Key value \n",
    "del Dict[6] \n",
    "print(\"\\nDeleting a specific key: \") \n",
    "print(Dict) \n",
    "\n",
    "# Deleting a Key from \n",
    "# Nested Dictionary \n",
    "del Dict['A'][2] \n",
    "print(\"\\nDeleting a key from Nested Dictionary: \") \n",
    "print(Dict) \n"
   ]
  },
  {
   "cell_type": "code",
   "execution_count": 51,
   "metadata": {},
   "outputs": [
    {
     "name": "stdout",
     "output_type": "stream",
     "text": [
      "\n",
      "Dictionary after deletion: {'name': 'For', 3: 'Geeks'}\n",
      "Value associated to poped key is: Geeks\n"
     ]
    }
   ],
   "source": [
    "# Creating a Dictionary \n",
    "Dict = {1: 'Geeks', 'name': 'For', 3: 'Geeks'} \n",
    "\n",
    "# Deleting a key \n",
    "# using pop() method \n",
    "pop_ele = Dict.pop(1) \n",
    "print('\\nDictionary after deletion: ' + str(Dict)) \n",
    "print('Value associated to poped key is: ' + str(pop_ele)) \n"
   ]
  },
  {
   "cell_type": "code",
   "execution_count": 53,
   "metadata": {},
   "outputs": [
    {
     "name": "stdout",
     "output_type": "stream",
     "text": [
      "\n",
      "Deleting Entire Dictionary: \n",
      "{}\n"
     ]
    }
   ],
   "source": [
    "# Creating a Dictionary \n",
    "Dict = {1: 'Geeks', 'name': 'For', 3: 'Geeks'} \n",
    "\n",
    "\n",
    "# Deleting entire Dictionary \n",
    "Dict.clear() \n",
    "print(\"\\nDeleting Entire Dictionary: \") \n",
    "print(Dict) \n"
   ]
  },
  {
   "cell_type": "markdown",
   "metadata": {},
   "source": [
    "# 2. Sets and its Default Functions"
   ]
  },
  {
   "cell_type": "markdown",
   "metadata": {},
   "source": [
    "In Python, <b> Set </b> is an unordered collection of data type that is iterable, mutable and has no duplicate elements. The order of elements in a set is undefined though it may consist of various elements.\n",
    "\n",
    "The major advantage of using a set, as opposed to a list, is that it has a highly optimized method for checking whether a specific element is contained in the set.\n",
    "\n",
    "<b>Note – A set cannot have mutable elements like a list, set or dictionary, as its elements.</b>"
   ]
  },
  {
   "cell_type": "markdown",
   "metadata": {},
   "source": [
    "<a href=\"https://ibb.co/1GmS6sc\"><img src=\"https://i.ibb.co/hFmqfX0/3.jpg\" alt=\"3\" border=\"0\"></a>"
   ]
  },
  {
   "cell_type": "markdown",
   "metadata": {},
   "source": [
    "<a href=\"https://ibb.co/kK9bvkX\"><img src=\"https://i.ibb.co/qBWqVXp/4.jpg\" alt=\"4\" border=\"0\"></a>"
   ]
  },
  {
   "cell_type": "code",
   "execution_count": 63,
   "metadata": {},
   "outputs": [
    {
     "name": "stdout",
     "output_type": "stream",
     "text": [
      "Intial blank Set: \n",
      "set()\n",
      "\n",
      "Set with the use of String: \n",
      "{'e', 's', 'h', 'Y', 'g', 'o'}\n",
      "\n",
      "Set with the use of List: \n",
      "{'Geeks', 'For', 'Yogesh'}\n"
     ]
    }
   ],
   "source": [
    "# Python program to demonstrate \n",
    "# Creation of Set in Python \n",
    "\n",
    "# Creating a Set \n",
    "set1 = set() \n",
    "print(\"Intial blank Set: \") \n",
    "print(set1) \n",
    "\n",
    "# Creating a Set with \n",
    "# the use of a String \n",
    "set1 = set(\"Yogesh\") \n",
    "print(\"\\nSet with the use of String: \") \n",
    "print(set1) \n",
    "\n",
    "# Creating a Set with \n",
    "# the use of a List \n",
    "set1 = set([\"Yogesh\", \"For\", \"Geeks\",\"Yogesh\"]) \n",
    "print(\"\\nSet with the use of List: \") \n",
    "print(set1) \n"
   ]
  },
  {
   "cell_type": "code",
   "execution_count": 65,
   "metadata": {},
   "outputs": [
    {
     "name": "stdout",
     "output_type": "stream",
     "text": [
      "\n",
      "Set after Addition of Three elements: \n",
      "{'For', (6, 7), 8, 9, 'Geeks', 'Yogesh'}\n",
      "\n",
      "Set after Addition of elements using Update: \n",
      "{4, 5, (6, 7), 10, 11}\n"
     ]
    }
   ],
   "source": [
    "# Adding element and tuple to the Set \n",
    "set1.add(8) \n",
    "set1.add(9) \n",
    "set1.add((6,7)) \n",
    "print(\"\\nSet after Addition of Three elements: \") \n",
    "print(set1) \n",
    "\n",
    "# using Update function \n",
    "set1 = set([ 4, 5, (6, 7)]) \n",
    "set1.update([10, 11]) \n",
    "print(\"\\nSet after Addition of elements using Update: \") \n",
    "print(set1) \n",
    "  "
   ]
  },
  {
   "cell_type": "code",
   "execution_count": 68,
   "metadata": {
    "scrolled": true
   },
   "outputs": [
    {
     "name": "stdout",
     "output_type": "stream",
     "text": [
      "Intial Set: \n",
      "{1, 2, 3, 4, 5, 6, 7, 8, 9, 10, 11, 12}\n",
      "\n",
      "Set after Removal of two elements: \n",
      "{1, 2, 3, 4, 7, 8, 9, 10, 11, 12}\n",
      "\n",
      "Set after popping an element: \n",
      "{2, 3, 4, 7, 8, 9, 10, 11, 12}\n",
      "\n",
      "Set after clearing all the elements: \n",
      "set()\n"
     ]
    }
   ],
   "source": [
    "# Creating a Set \n",
    "set1 = set([1, 2, 3, 4, 5, 6,  \n",
    "            7, 8, 9, 10, 11, 12]) \n",
    "print(\"Intial Set: \") \n",
    "print(set1) \n",
    "  \n",
    "# Removing elements from Set \n",
    "# using Remove() method \n",
    "set1.remove(5) \n",
    "set1.remove(6) \n",
    "print(\"\\nSet after Removal of two elements: \") \n",
    "print(set1) \n",
    "  \n",
    "# Removing element from the  \n",
    "# Set using the pop() method \n",
    "set1.pop() \n",
    "print(\"\\nSet after popping an element: \") \n",
    "print(set1) \n",
    "\n",
    "# Removing all the elements from  \n",
    "# Set using clear() method \n",
    "set1.clear() \n",
    "print(\"\\nSet after clearing all the elements: \") \n",
    "print(set1) "
   ]
  },
  {
   "cell_type": "markdown",
   "metadata": {},
   "source": [
    "## <b><center> - THANK YOU - </center></b>"
   ]
  }
 ],
 "metadata": {
  "kernelspec": {
   "display_name": "Python 3",
   "language": "python",
   "name": "python3"
  },
  "language_info": {
   "codemirror_mode": {
    "name": "ipython",
    "version": 3
   },
   "file_extension": ".py",
   "mimetype": "text/x-python",
   "name": "python",
   "nbconvert_exporter": "python",
   "pygments_lexer": "ipython3",
   "version": "3.7.6"
  }
 },
 "nbformat": 4,
 "nbformat_minor": 4
}
